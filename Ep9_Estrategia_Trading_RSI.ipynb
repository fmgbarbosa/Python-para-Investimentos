{
  "nbformat": 4,
  "nbformat_minor": 0,
  "metadata": {
    "colab": {
      "name": "Tutorial 9 - Trading RSI.ipynb",
      "provenance": [],
      "collapsed_sections": []
    },
    "kernelspec": {
      "name": "python3",
      "display_name": "Python 3"
    }
  },
  "cells": [
    {
      "cell_type": "markdown",
      "metadata": {
        "id": "B-cAtOVd1ONl"
      },
      "source": [
        "**Pré-Tutorial**"
      ]
    },
    {
      "cell_type": "code",
      "metadata": {
        "id": "4BrEfLBH1KZs"
      },
      "source": [
        "!pip install yfinance\r\n",
        "!pip install --upgrade matplotlib\r\n",
        "#!pip install matplotlib==3.1.3"
      ],
      "execution_count": null,
      "outputs": []
    },
    {
      "cell_type": "code",
      "metadata": {
        "id": "kXGZyoGg1XzI"
      },
      "source": [
        "#Calcular RSI\r\n",
        "####### Compute RSI\r\n",
        "#1º) Calcular Variação\r\n",
        "#2º) Identificar se é um ganho ou perda\r\n",
        "#3º) Calcular media movel (suavizada) de ganho e perda (janela definida pelo user)\r\n",
        "#4º) Calcular RS\r\n",
        "#5º) Calcular RSI\r\n",
        "\r\n",
        "def indicador_RSI(df,window):\r\n",
        "  df['change'] = df['Adj Close'] - df['Adj Close'].shift(1) #Calcular diferença entre fecho \r\n",
        "\r\n",
        "  df['gain'] = df.loc[df['change']>0,'change'].apply(abs) #Calcular Ganhos\r\n",
        "  df.loc[(df['gain'].isna()),'gain']= 0 \r\n",
        "  data[0,data.columns.get_loc('gain')] = np.NaN #df.loc[0,'gain'] = np.NaN\r\n",
        "\r\n",
        "\r\n",
        "  df['loss'] = df.loc[df['change']<0,'change'].apply(abs) #Calcular Perdas\r\n",
        "  df.loc[(df['loss'].isna()),'loss']= 0\r\n",
        "  data[0,data.columns.get_loc('loss')] = np.NaN #df.loc[0,'loss'] = np.NaN\r\n",
        "\r\n",
        "  ########### Average Gain/Loss\r\n",
        "  #Normalmente são considerados 14 periodos (neste caso vou usar dias)\r\n",
        "  df['avg_gain'] = df['gain'].rolling(window).mean()\r\n",
        "  df['avg_loss'] = df['loss'].rolling(window).mean()\r\n",
        "\r\n",
        "  #não pode ser vetorizado porque é uma formula recursiva\r\n",
        "  first = df['avg_gain'].first_valid_index() #identificar primeiro valor que não seja nulo/na\r\n",
        "\r\n",
        "  for index, row in df.iterrows():\r\n",
        "    if index == first: #gravar o primeiro não nulo\r\n",
        "      prev_avg_gain = row['avg_gain']\r\n",
        "      prev_avg_loss = row['avg_loss']\r\n",
        "    elif index > first: #calcular os seguintes (após o não nulo)\r\n",
        "      df.loc[index,'avg_gain']= ((prev_avg_gain*(window -1)) + row['gain'])/window\r\n",
        "      prev_avg_gain = df.loc[index,'avg_gain']\r\n",
        "\r\n",
        "      df.loc[index,'avg_loss']= ((prev_avg_loss*(window -1)) + row['loss'])/window\r\n",
        "      prev_avg_loss = df.loc[index,'avg_loss']\r\n",
        "\r\n",
        "  #### Compute RS e RSI\r\n",
        "  df[f'RS{window}'] = df['avg_gain']/df['avg_loss']\r\n",
        "  df[f'RSI{window}'] = 100 - (100 / (1 + df[f'RS{window}']))\r\n",
        "\r\n",
        "  #Filter Columns\r\n",
        "  lista = df.columns.to_list()\r\n",
        "  matching = [s for s in lista if \"RSI\" in s]\r\n",
        "  sel_col = ['Adj Close'] + matching\r\n",
        "\r\n",
        "  return df[sel_col].copy()"
      ],
      "execution_count": 1,
      "outputs": []
    },
    {
      "cell_type": "markdown",
      "metadata": {
        "id": "FcVdf0Ll1lPg"
      },
      "source": [
        "**Tutorial**"
      ]
    },
    {
      "cell_type": "code",
      "metadata": {
        "id": "K1oFX36l9ZiH"
      },
      "source": [
        "import matplotlib.pyplot as plt\r\n",
        "import numpy as np\r\n",
        "import yfinance as yf\r\n",
        "import math"
      ],
      "execution_count": 10,
      "outputs": []
    },
    {
      "cell_type": "code",
      "metadata": {
        "id": "DypkHzMo9uMH"
      },
      "source": [
        "data = yf.download('TSLA','2016-01-01','2020-10-01')\r\n",
        "data.head()"
      ],
      "execution_count": null,
      "outputs": []
    },
    {
      "cell_type": "code",
      "metadata": {
        "id": "YkdOmI6s-G_U"
      },
      "source": [
        "data_frame = indicador_RSI(data,14)\r\n",
        "data_frame.head(20)"
      ],
      "execution_count": null,
      "outputs": []
    },
    {
      "cell_type": "code",
      "metadata": {
        "id": "UMOknsYK-so7"
      },
      "source": [
        "filter_sell = (data_frame['RSI14'].shift(1)<70) & (data_frame['RSI14']>70)\r\n",
        "data_frame.loc[filter_sell,'Sell_Signal'] = data_frame.loc[filter_sell,'Adj Close']"
      ],
      "execution_count": 13,
      "outputs": []
    },
    {
      "cell_type": "code",
      "metadata": {
        "id": "fb-_oJFY_UfT"
      },
      "source": [
        "filter_buy = (data_frame['RSI14'].shift(1)>30) & (data_frame['RSI14']<30)\r\n",
        "data_frame.loc[filter_buy,'Buy_Signal'] = data_frame.loc[filter_buy,'Adj Close']"
      ],
      "execution_count": 14,
      "outputs": []
    },
    {
      "cell_type": "code",
      "metadata": {
        "id": "qxYbe9Ss_uyf"
      },
      "source": [
        "data_frame = data_frame.reset_index()\r\n",
        "filtered_data = data_frame.loc[(data_frame['Date']<'2020-12-01')&(data_frame['Date']>'2018-12-01')]"
      ],
      "execution_count": 15,
      "outputs": []
    },
    {
      "cell_type": "code",
      "metadata": {
        "id": "pr5cE93BAAfb"
      },
      "source": [
        "plt.rcParams['figure.figsize'] = [6,4]\r\n",
        "plt.rcParams['figure.dpi'] = 100"
      ],
      "execution_count": 16,
      "outputs": []
    },
    {
      "cell_type": "code",
      "metadata": {
        "id": "Wt9XG2UGAMlj"
      },
      "source": [
        "fig, ax = plt.subplots()\r\n",
        "\r\n",
        "#Plot 1\r\n",
        "ax.plot(filtered_data['Date'],filtered_data['Adj Close'],label = 'Adj Close')\r\n",
        "\r\n",
        "#Plot 2\r\n",
        "ax2 = ax.twinx()\r\n",
        "ax2.plot(filtered_data['Date'],filtered_data['RSI14'],label='RSI14',color='gray',alpha=0.5)\r\n",
        "ax2.axhline(70,color='gray',ls='--',alpha=0.5)\r\n",
        "ax2.axhline(30,color='gray',ls='--',alpha=0.5)\r\n",
        "ax2.set_ylabel('RSI14')\r\n",
        "ax2.legend()\r\n",
        "\r\n",
        "ax.scatter(filtered_data['Date'],filtered_data['Buy_Signal'],label='Buy',marker='^',color='green',s=100)\r\n",
        "ax.scatter(filtered_data['Date'],filtered_data['Sell_Signal'],label='Sell',marker='v',color='red',s=100)\r\n",
        "\r\n",
        "ax.yaxis.set_major_formatter('${x:}')\r\n",
        "fig.autofmt_xdate()\r\n",
        "\r\n",
        "ax.set_title('Estratégia RSI')\r\n",
        "ax.set_ylabel('Adj_Close')\r\n",
        "ax.set_xlabel('Data')\r\n",
        "ax.legend()"
      ],
      "execution_count": null,
      "outputs": []
    }
  ]
}