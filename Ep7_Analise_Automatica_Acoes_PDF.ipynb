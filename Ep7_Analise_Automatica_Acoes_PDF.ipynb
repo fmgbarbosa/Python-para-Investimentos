{
  "nbformat": 4,
  "nbformat_minor": 0,
  "metadata": {
    "colab": {
      "name": "Python para Investimentos | Tutorial 7.ipynb",
      "provenance": [],
      "collapsed_sections": []
    },
    "kernelspec": {
      "name": "python3",
      "display_name": "Python 3"
    }
  },
  "cells": [
    {
      "cell_type": "markdown",
      "metadata": {
        "id": "O16r4uhxSFPy"
      },
      "source": [
        "**Pré - Tutorial**"
      ]
    },
    {
      "cell_type": "code",
      "metadata": {
        "id": "0-4mbBdtR_wl"
      },
      "source": [
        "!pip install yfinance\n",
        "!pip install fpdf\n",
        "!pip install --upgrade matplotlib"
      ],
      "execution_count": null,
      "outputs": []
    },
    {
      "cell_type": "code",
      "metadata": {
        "id": "RrYVGbOYSLLO"
      },
      "source": [
        "def grafico_media_movel(input_data, ticker,window = 10,file_name = 'SMA_EMA_plot.png'):\n",
        "\n",
        "  #Gerar SMA e EMA\n",
        "  input_data[f'SMA{window}'] = input_data['Adj Close'].rolling(window).mean()\n",
        "  input_data[f'EMA{window}'] = input_data['Adj Close'].ewm(span=window).mean()\n",
        "\n",
        "  #Criar Figura e Grafico\n",
        "  fig,ax = plt.subplots()\n",
        "\n",
        "  #Adicionar Serie Temporal\n",
        "  ax.plot(input_data['Date'],input_data['Adj Close'],label=ticker)\n",
        "  ax.plot(input_data['Date'],input_data['SMA10'],label='SMA10')\n",
        "  ax.plot(input_data['Date'],input_data['EMA10'],label='EMA10')\n",
        "\n",
        "  #Formatar para aparecer o simbolo do dolar\n",
        "  ax.yaxis.set_major_formatter('${x:}') #so funciona com a versão mais recente do matplotlib\n",
        "\n",
        "  #ax.set_ylabel('Adj Close')\n",
        "  ax.set_title('Média Móvel Simples e Exponencial') #Adicionar titulo\n",
        "  ax.legend(loc='lower right') #apresentar labels\n",
        "  #ax.xaxis_date() \n",
        "  fig.patch.set_visible(False) #esconder cinzento\n",
        "  fig.autofmt_xdate() #rodar eixo do X\n",
        "\n",
        "  #Gravar Figura\n",
        "  fig.savefig(file_name,bbox_inches='tight',pad_inches = 0.1,dpi=300) #500\n",
        "\n",
        "  print(f'Grafico {file_name} criado!')"
      ],
      "execution_count": null,
      "outputs": []
    },
    {
      "cell_type": "markdown",
      "metadata": {
        "id": "MOpEUj8RSS3R"
      },
      "source": [
        "_"
      ]
    },
    {
      "cell_type": "markdown",
      "metadata": {
        "id": "Y0k0HFh_STzN"
      },
      "source": [
        "**Tutorial**"
      ]
    },
    {
      "cell_type": "code",
      "metadata": {
        "id": "o-0kfNv6Ts1y"
      },
      "source": [
        "from fpdf import FPDF\n",
        "import yfinance as yf\n",
        "from datetime import datetime\n",
        "import matplotlib.pyplot as plt"
      ],
      "execution_count": null,
      "outputs": []
    },
    {
      "cell_type": "code",
      "metadata": {
        "id": "XAMak72tUKlF"
      },
      "source": [
        "#input\n",
        "\n",
        "tickers = 'TSLA' #'AAPL'\n",
        "\n",
        "#dates\n",
        "start = '2020-05-01'\n",
        "end = '2020-12-01'"
      ],
      "execution_count": null,
      "outputs": []
    },
    {
      "cell_type": "code",
      "metadata": {
        "colab": {
          "base_uri": "https://localhost:8080/"
        },
        "id": "OT2fb0guUaRe",
        "outputId": "1798c25a-6d3b-414b-8ae2-1981dc9e7439"
      },
      "source": [
        "appl = yf.Ticker(tickers)\n",
        "#appl.info\n",
        "\n",
        "keys_to_extract = ['market','longName','industry','marketCap'\n",
        ",'priceToBook','website','symbol','shortName','averageDailyVolume10Day','payoutRatio','longBusinessSummary']\n",
        "\n",
        "a_subset = {key: appl.info[key] for key in keys_to_extract}\n",
        "a_subset"
      ],
      "execution_count": null,
      "outputs": [
        {
          "output_type": "execute_result",
          "data": {
            "text/plain": [
              "{'averageDailyVolume10Day': 51960957,\n",
              " 'industry': 'Auto Manufacturers',\n",
              " 'longBusinessSummary': 'Tesla, Inc. designs, develops, manufactures, leases, and sells electric vehicles, and energy generation and storage systems in the United States, China, Netherlands, Norway, and internationally. The company operates in two segments, Automotive; and Energy Generation and Storage. The Automotive segment offers sedans and sport utility vehicles. It also provides electric powertrain components and systems; and services for electric vehicles through its company-owned service locations, and Tesla mobile service technicians, as well as sells used vehicles. This segment markets and sells its products through a network of company-owned stores and galleries, as well as through its own Website. The Energy Generation and Storage segment offers energy storage products, such as rechargeable lithium-ion battery systems for use in homes, industrial, commercial facilities, and utility grids; and designs, manufactures, installs, maintains, leases, and sells solar energy generation and energy storage products to residential and commercial customers. It also provides vehicle insurance services, as well as renewable energy. The company was formerly known as Tesla Motors, Inc. and changed its name to Tesla, Inc. in February 2017. Tesla, Inc. was founded in 2003 and is headquartered in Palo Alto, California.',\n",
              " 'longName': 'Tesla, Inc.',\n",
              " 'market': 'us_market',\n",
              " 'marketCap': 555242487808,\n",
              " 'payoutRatio': 0,\n",
              " 'priceToBook': 34.63986,\n",
              " 'shortName': 'Tesla, Inc.',\n",
              " 'symbol': 'TSLA',\n",
              " 'website': 'http://www.tesla.com'}"
            ]
          },
          "metadata": {
            "tags": []
          },
          "execution_count": 33
        }
      ]
    },
    {
      "cell_type": "code",
      "metadata": {
        "id": "Zo_ElLjkVTEL"
      },
      "source": [
        "input_data = yf.download(tickers,start=start,end=end).reset_index()\n",
        "input_data.tail()"
      ],
      "execution_count": null,
      "outputs": []
    },
    {
      "cell_type": "code",
      "metadata": {
        "id": "aNqCNQ9yVk2y"
      },
      "source": [
        "grafico_media_movel(input_data,tickers,10,file_name='SMA_EMA_plot.png')"
      ],
      "execution_count": null,
      "outputs": []
    },
    {
      "cell_type": "markdown",
      "metadata": {
        "id": "C3dBHstuWRbb"
      },
      "source": [
        "Relatorio PDF"
      ]
    },
    {
      "cell_type": "code",
      "metadata": {
        "id": "f3vKSar5WThq"
      },
      "source": [
        "#Set Variables\n",
        "largura = 210 #mm\n",
        "altura = 297 #mm\n",
        "margem = 10 #mm\n",
        "\n",
        "######### Set Configuration #########\n",
        "pdf = FPDF('P','mm','A4')\n",
        "pdf.add_page()\n",
        "pdf.set_font('arial','B',18)\n",
        "pdf.set_auto_page_break(auto=bool,margin=margem)\n",
        "\n",
        "##### Colocar Cabeçalho e Rodapé ################\n",
        "pdf.image('Letter_Page_Header.jpg',x=0,y=0,w=largura)\n",
        "pdf.image('Letter_Page_Footer.jpg',x=0,y=altura-10,w=largura)\n",
        "\n",
        "########## Inserir Titulo ###################\n",
        "company = a_subset['shortName']\n",
        "pdf.cell(largura-2*margem,60,f'Análise {company}',border=1,ln=1,align='R')\n",
        "pdf.cell(60,5,'',1,1)\n",
        "\n",
        "############### Secção Detalhes da Empresa ##############\n",
        "pdf.set_font('arial','BU',12)\n",
        "pdf.cell(60,10,'Detalhes da Empresa',1,1)\n",
        "\n",
        "#Linha 1\n",
        "add_row('Descrição:',a_subset['longName'],'Símbolo:',a_subset['symbol'])\n",
        "#Linha 2\n",
        "add_row('Mercado:',a_subset['market'],'Indústria:',a_subset['industry'])\n",
        "pdf.cell(60,5,'',1,1)\n",
        "\n",
        "########### Secção Indicadores ######################\n",
        "pdf.set_font('arial','BU',12)\n",
        "pdf.cell(60,10,'Indicadores',0,1)\n",
        "\n",
        "#Linha 3\n",
        "number = a_subset['marketCap']\n",
        "market_cap = format(number,',').replace(\",\",\".\") + ' $'\n",
        "\n",
        "add_row('Cap. Mercado:',market_cap,'PriceToBook',str(round(a_subset['priceToBook'],2)))\n",
        "\n",
        "#Linha 4\n",
        "number = a_subset['averageDailyVolume10Day']\n",
        "avg_volume = format(number,',').replace(\",\",\".\")\n",
        "\n",
        "add_row('Volume Diário:',avg_volume,'PayoutRatio:',str(round(a_subset['payoutRatio'],2)))\n",
        "pdf.cell(60,5,'',0,1)\n",
        "\n",
        "############ Grafico #################################\n",
        "pdf.set_font('arial','BU',12)\n",
        "pdf.cell(60,10,'Análise Gráfica',0,1)\n",
        "img_path = 'SMA_EMA_plot.png'\n",
        "\n",
        "pdf.image(img_path,x=pdf.get_x(),w=largura-2*margem,h=(altura-pdf.get_y()-2*margem))\n",
        "\n",
        "\n",
        "### Rodapé #########################\n",
        "pdf.set_font('arial','',8)\n",
        "now = datetime.now().strftime(\"%d-%m-%Y\")\n",
        "nota_rodape = f'Análise {company}. Relatório gerado a {now}.'\n",
        "\n",
        "pdf.text(x=largura - len(nota_rodape)*1.5 - margem,y=altura - margem/2,txt=nota_rodape)\n",
        "\n",
        "pdf.output('Relatorio_Analise.pdf','F')\n"
      ],
      "execution_count": null,
      "outputs": []
    },
    {
      "cell_type": "code",
      "metadata": {
        "id": "-sT4ie0zZzlX"
      },
      "source": [
        "def add_row(bold_1,text_1,bold_2,text_2):\n",
        "\n",
        "  pdf.set_font('arial','B',12)\n",
        "  pdf.cell(30,10,bold_1,0,0)\n",
        "\n",
        "  pdf.set_font('arial','',12)\n",
        "  pdf.cell(65,10,text_1,0,0,align='C')\n",
        "\n",
        "  pdf.set_font('arial','B',12)\n",
        "  pdf.cell(30,10,bold_2,0,0)\n",
        "\n",
        "  pdf.set_font('arial','',12)\n",
        "  pdf.cell(65,10,text_2,0,1,align='C')\n",
        "\n",
        "\n"
      ],
      "execution_count": null,
      "outputs": []
    }
  ]
}