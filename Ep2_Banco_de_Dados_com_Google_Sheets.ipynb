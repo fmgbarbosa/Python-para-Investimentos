{
  "nbformat": 4,
  "nbformat_minor": 0,
  "metadata": {
    "colab": {
      "name": "Python para Investimentos | Banco de Dados com Google Sheets.ipynb",
      "provenance": []
    },
    "kernelspec": {
      "name": "python3",
      "display_name": "Python 3"
    }
  },
  "cells": [
    {
      "cell_type": "code",
      "metadata": {
        "id": "XN_dTdOYKODP"
      },
      "source": [
        "!pip install --upgrade gspread"
      ],
      "execution_count": null,
      "outputs": []
    },
    {
      "cell_type": "code",
      "metadata": {
        "id": "QTwKukU4LH7q"
      },
      "source": [
        "from google.colab import auth\n",
        "auth.authenticate_user()\n",
        "\n",
        "import gspread\n",
        "from oauth2client.client import GoogleCredentials\n",
        "\n",
        "gc = gspread.authorize(GoogleCredentials.get_application_default())"
      ],
      "execution_count": null,
      "outputs": []
    },
    {
      "cell_type": "code",
      "metadata": {
        "id": "NCll5H-JLdBK"
      },
      "source": [
        "folha_calculo = gc.create('Cotação Microsoft')"
      ],
      "execution_count": null,
      "outputs": []
    },
    {
      "cell_type": "code",
      "metadata": {
        "id": "J3QkPFiuLyV2"
      },
      "source": [
        "folha_calculo = gc.open_by_url('https://docs.google.com/spreadsheets/d/1G0Ck-nLRUbe5gRG8KGZvqeDQ_Yf6jkMk3XwDsQRqO2E/edit#gid=0')"
      ],
      "execution_count": null,
      "outputs": []
    },
    {
      "cell_type": "code",
      "metadata": {
        "id": "basrmQeeMD0O"
      },
      "source": [
        "folha_calculo = gc.open('Cotação Google')"
      ],
      "execution_count": null,
      "outputs": []
    },
    {
      "cell_type": "code",
      "metadata": {
        "id": "CBRgoEZeMZr-",
        "outputId": "25de8f7b-c9ee-45ca-d024-2755840d78e9",
        "colab": {
          "base_uri": "https://localhost:8080/",
          "height": 34
        }
      },
      "source": [
        "folha_calculo.worksheets()"
      ],
      "execution_count": null,
      "outputs": [
        {
          "output_type": "execute_result",
          "data": {
            "text/plain": [
              "[<Worksheet 'Sheet1' id:0>, <Worksheet 'Sheet2' id:495946907>]"
            ]
          },
          "metadata": {
            "tags": []
          },
          "execution_count": 9
        }
      ]
    },
    {
      "cell_type": "code",
      "metadata": {
        "id": "9XTItpgoMo-K",
        "outputId": "2c154a3e-959e-4d0a-fdec-eab0a50b3c23",
        "colab": {
          "base_uri": "https://localhost:8080/",
          "height": 34
        }
      },
      "source": [
        "folha_calculo.add_worksheet(title='Nova Página',rows='100',cols='20')"
      ],
      "execution_count": null,
      "outputs": [
        {
          "output_type": "execute_result",
          "data": {
            "text/plain": [
              "<Worksheet 'Nova Página' id:753919580>"
            ]
          },
          "metadata": {
            "tags": []
          },
          "execution_count": 10
        }
      ]
    },
    {
      "cell_type": "code",
      "metadata": {
        "id": "i3zqzg9DNSNH",
        "outputId": "b2e124b8-4689-46c7-9b11-d1f498881814",
        "colab": {
          "base_uri": "https://localhost:8080/",
          "height": 51
        }
      },
      "source": [
        "pagina = folha_calculo.worksheets()[2]\n",
        "folha_calculo.del_worksheet(pagina)"
      ],
      "execution_count": null,
      "outputs": [
        {
          "output_type": "execute_result",
          "data": {
            "text/plain": [
              "{'replies': [{}],\n",
              " 'spreadsheetId': '1G0Ck-nLRUbe5gRG8KGZvqeDQ_Yf6jkMk3XwDsQRqO2E'}"
            ]
          },
          "metadata": {
            "tags": []
          },
          "execution_count": 15
        }
      ]
    },
    {
      "cell_type": "markdown",
      "metadata": {
        "id": "Gh1Mpk62N0-e"
      },
      "source": [
        "Interagir com Células"
      ]
    },
    {
      "cell_type": "code",
      "metadata": {
        "id": "ZANiY2ZaNz_-"
      },
      "source": [
        "pagina = folha_calculo.get_worksheet(0)"
      ],
      "execution_count": null,
      "outputs": []
    },
    {
      "cell_type": "code",
      "metadata": {
        "id": "IF_-sZM7OAz_",
        "outputId": "cfeaee86-8e09-463c-a771-7a43251e3d1a",
        "colab": {
          "base_uri": "https://localhost:8080/",
          "height": 35
        }
      },
      "source": [
        "pagina.cell(2,1).value"
      ],
      "execution_count": null,
      "outputs": [
        {
          "output_type": "execute_result",
          "data": {
            "application/vnd.google.colaboratory.intrinsic+json": {
              "type": "string"
            },
            "text/plain": [
              "'2020-01-02'"
            ]
          },
          "metadata": {
            "tags": []
          },
          "execution_count": 17
        }
      ]
    },
    {
      "cell_type": "code",
      "metadata": {
        "id": "ZU79-LU7OkZH"
      },
      "source": [
        ""
      ],
      "execution_count": null,
      "outputs": []
    },
    {
      "cell_type": "code",
      "metadata": {
        "id": "Ajmx2hBYOIUz",
        "outputId": "e8eddd66-6d22-4580-97a0-1e1efe6c81bc",
        "colab": {
          "base_uri": "https://localhost:8080/",
          "height": 136
        }
      },
      "source": [
        "pagina.row_values(2)"
      ],
      "execution_count": null,
      "outputs": [
        {
          "output_type": "execute_result",
          "data": {
            "text/plain": [
              "['2020-01-02',\n",
              " '3244.669922',\n",
              " '3258.139893',\n",
              " '3235.530029',\n",
              " '3257.850098',\n",
              " '3257.850098',\n",
              " '3458250000']"
            ]
          },
          "metadata": {
            "tags": []
          },
          "execution_count": 18
        }
      ]
    },
    {
      "cell_type": "code",
      "metadata": {
        "id": "sbtwXsHAORUf"
      },
      "source": [
        "pagina.col_values(1)"
      ],
      "execution_count": null,
      "outputs": []
    },
    {
      "cell_type": "code",
      "metadata": {
        "id": "Bic4B1SlOYyz"
      },
      "source": [
        "pagina.get_all_values()"
      ],
      "execution_count": null,
      "outputs": []
    },
    {
      "cell_type": "code",
      "metadata": {
        "id": "uqNns6o0Ok7v"
      },
      "source": [
        "pagina.get_all_records()"
      ],
      "execution_count": null,
      "outputs": []
    },
    {
      "cell_type": "code",
      "metadata": {
        "id": "14d3bcXdOv7T",
        "outputId": "7075e8c9-8929-4073-8510-0e732ed8b5cb",
        "colab": {
          "base_uri": "https://localhost:8080/",
          "height": 102
        }
      },
      "source": [
        "pagina = folha_calculo.get_worksheet(1)\n",
        "\n",
        "pagina.update_acell('D10','Ola')"
      ],
      "execution_count": null,
      "outputs": [
        {
          "output_type": "execute_result",
          "data": {
            "text/plain": [
              "{'spreadsheetId': '1G0Ck-nLRUbe5gRG8KGZvqeDQ_Yf6jkMk3XwDsQRqO2E',\n",
              " 'updatedCells': 1,\n",
              " 'updatedColumns': 1,\n",
              " 'updatedRange': 'Sheet2!D10',\n",
              " 'updatedRows': 1}"
            ]
          },
          "metadata": {
            "tags": []
          },
          "execution_count": 23
        }
      ]
    },
    {
      "cell_type": "code",
      "metadata": {
        "id": "5UwTgvK-PGc9",
        "outputId": "1d3c1db2-32fc-488e-db90-c36ed98753bb",
        "colab": {
          "base_uri": "https://localhost:8080/",
          "height": 102
        }
      },
      "source": [
        "pagina.update_cell(3,4,'Ola 2')"
      ],
      "execution_count": null,
      "outputs": [
        {
          "output_type": "execute_result",
          "data": {
            "text/plain": [
              "{'spreadsheetId': '1G0Ck-nLRUbe5gRG8KGZvqeDQ_Yf6jkMk3XwDsQRqO2E',\n",
              " 'updatedCells': 1,\n",
              " 'updatedColumns': 1,\n",
              " 'updatedRange': 'Sheet2!D3',\n",
              " 'updatedRows': 1}"
            ]
          },
          "metadata": {
            "tags": []
          },
          "execution_count": 24
        }
      ]
    },
    {
      "cell_type": "code",
      "metadata": {
        "id": "attB0Y3JPbsP",
        "outputId": "0db0ad58-beca-409f-b21d-a60c14f7f837",
        "colab": {
          "base_uri": "https://localhost:8080/",
          "height": 51
        }
      },
      "source": [
        "pagina = folha_calculo.get_worksheet(0)\n",
        "\n",
        "pagina.format('A1:G1',{'textFormat':{'bold':True}})"
      ],
      "execution_count": null,
      "outputs": [
        {
          "output_type": "execute_result",
          "data": {
            "text/plain": [
              "{'replies': [{}],\n",
              " 'spreadsheetId': '1G0Ck-nLRUbe5gRG8KGZvqeDQ_Yf6jkMk3XwDsQRqO2E'}"
            ]
          },
          "metadata": {
            "tags": []
          },
          "execution_count": 26
        }
      ]
    },
    {
      "cell_type": "markdown",
      "metadata": {
        "id": "FLeGnaFFP-1M"
      },
      "source": [
        "Importar Informação Pandas"
      ]
    },
    {
      "cell_type": "code",
      "metadata": {
        "id": "z1xzDAL_QBkM"
      },
      "source": [
        "import pandas as pd"
      ],
      "execution_count": null,
      "outputs": []
    },
    {
      "cell_type": "code",
      "metadata": {
        "id": "eaikvUdHQGNQ",
        "outputId": "e36c28e9-c5b2-4ff8-8130-3aaca2060471",
        "colab": {
          "base_uri": "https://localhost:8080/",
          "height": 204
        }
      },
      "source": [
        "dataframe = pd.DataFrame(pagina.get_all_records())\n",
        "dataframe.head()"
      ],
      "execution_count": null,
      "outputs": [
        {
          "output_type": "execute_result",
          "data": {
            "text/html": [
              "<div>\n",
              "<style scoped>\n",
              "    .dataframe tbody tr th:only-of-type {\n",
              "        vertical-align: middle;\n",
              "    }\n",
              "\n",
              "    .dataframe tbody tr th {\n",
              "        vertical-align: top;\n",
              "    }\n",
              "\n",
              "    .dataframe thead th {\n",
              "        text-align: right;\n",
              "    }\n",
              "</style>\n",
              "<table border=\"1\" class=\"dataframe\">\n",
              "  <thead>\n",
              "    <tr style=\"text-align: right;\">\n",
              "      <th></th>\n",
              "      <th>Date</th>\n",
              "      <th>Open</th>\n",
              "      <th>High</th>\n",
              "      <th>Low</th>\n",
              "      <th>Close</th>\n",
              "      <th>Adj Close</th>\n",
              "      <th>Volume</th>\n",
              "    </tr>\n",
              "  </thead>\n",
              "  <tbody>\n",
              "    <tr>\n",
              "      <th>0</th>\n",
              "      <td>2020-01-02</td>\n",
              "      <td>3244.669922</td>\n",
              "      <td>3258.139893</td>\n",
              "      <td>3235.530029</td>\n",
              "      <td>3257.850098</td>\n",
              "      <td>3257.850098</td>\n",
              "      <td>3458250000</td>\n",
              "    </tr>\n",
              "    <tr>\n",
              "      <th>1</th>\n",
              "      <td>2020-01-03</td>\n",
              "      <td>3226.360107</td>\n",
              "      <td>3246.149902</td>\n",
              "      <td>3222.340088</td>\n",
              "      <td>3234.850098</td>\n",
              "      <td>3234.850098</td>\n",
              "      <td>3461290000</td>\n",
              "    </tr>\n",
              "    <tr>\n",
              "      <th>2</th>\n",
              "      <td>2020-01-06</td>\n",
              "      <td>3217.550049</td>\n",
              "      <td>3246.840088</td>\n",
              "      <td>3214.639893</td>\n",
              "      <td>3246.280029</td>\n",
              "      <td>3246.280029</td>\n",
              "      <td>3674070000</td>\n",
              "    </tr>\n",
              "    <tr>\n",
              "      <th>3</th>\n",
              "      <td>2020-01-07</td>\n",
              "      <td>3241.860107</td>\n",
              "      <td>3244.909912</td>\n",
              "      <td>3232.429932</td>\n",
              "      <td>3237.179932</td>\n",
              "      <td>3237.179932</td>\n",
              "      <td>3420380000</td>\n",
              "    </tr>\n",
              "    <tr>\n",
              "      <th>4</th>\n",
              "      <td>2020-01-08</td>\n",
              "      <td>3238.590088</td>\n",
              "      <td>3267.070068</td>\n",
              "      <td>3236.669922</td>\n",
              "      <td>3253.050049</td>\n",
              "      <td>3253.050049</td>\n",
              "      <td>3720890000</td>\n",
              "    </tr>\n",
              "  </tbody>\n",
              "</table>\n",
              "</div>"
            ],
            "text/plain": [
              "         Date         Open         High  ...        Close    Adj Close      Volume\n",
              "0  2020-01-02  3244.669922  3258.139893  ...  3257.850098  3257.850098  3458250000\n",
              "1  2020-01-03  3226.360107  3246.149902  ...  3234.850098  3234.850098  3461290000\n",
              "2  2020-01-06  3217.550049  3246.840088  ...  3246.280029  3246.280029  3674070000\n",
              "3  2020-01-07  3241.860107  3244.909912  ...  3237.179932  3237.179932  3420380000\n",
              "4  2020-01-08  3238.590088  3267.070068  ...  3253.050049  3253.050049  3720890000\n",
              "\n",
              "[5 rows x 7 columns]"
            ]
          },
          "metadata": {
            "tags": []
          },
          "execution_count": 29
        }
      ]
    },
    {
      "cell_type": "code",
      "metadata": {
        "id": "UHsJsiQqQgm1"
      },
      "source": [
        "pagina = folha_calculo.get_worksheet(1)"
      ],
      "execution_count": null,
      "outputs": []
    },
    {
      "cell_type": "code",
      "metadata": {
        "id": "wFmJwK24Qn4A",
        "outputId": "0d5c3ec4-61fd-4e71-e786-cd0daab6027c",
        "colab": {
          "base_uri": "https://localhost:8080/",
          "height": 102
        }
      },
      "source": [
        "pagina.update([dataframe.columns.values.tolist()]+dataframe.values.tolist())"
      ],
      "execution_count": null,
      "outputs": [
        {
          "output_type": "execute_result",
          "data": {
            "text/plain": [
              "{'spreadsheetId': '1G0Ck-nLRUbe5gRG8KGZvqeDQ_Yf6jkMk3XwDsQRqO2E',\n",
              " 'updatedCells': 1449,\n",
              " 'updatedColumns': 7,\n",
              " 'updatedRange': 'Sheet2!A1:G207',\n",
              " 'updatedRows': 207}"
            ]
          },
          "metadata": {
            "tags": []
          },
          "execution_count": 34
        }
      ]
    },
    {
      "cell_type": "code",
      "metadata": {
        "id": "4SVoxbMpQ5Ak"
      },
      "source": [
        "dataframe.columns.values.tolist()\n",
        "dataframe.values.tolist()"
      ],
      "execution_count": null,
      "outputs": []
    },
    {
      "cell_type": "code",
      "metadata": {
        "id": "RLsqzDGxRgNE"
      },
      "source": [
        "from gspread_dataframe import get_as_dataframe,set_with_dataframe\n",
        "\n",
        "pagina = folha_calculo.get_worksheet(1)\n",
        "set_with_dataframe(pagina,dataframe)"
      ],
      "execution_count": null,
      "outputs": []
    },
    {
      "cell_type": "code",
      "metadata": {
        "id": "UGoLvxoWR929",
        "outputId": "02a5b0d1-adec-4d76-fc57-3a532aa764bc",
        "colab": {
          "base_uri": "https://localhost:8080/",
          "height": 204
        }
      },
      "source": [
        "df_import = get_as_dataframe(pagina,usecols=[0,1,2,3,4,5,6])\n",
        "df_import.head()"
      ],
      "execution_count": null,
      "outputs": [
        {
          "output_type": "execute_result",
          "data": {
            "text/html": [
              "<div>\n",
              "<style scoped>\n",
              "    .dataframe tbody tr th:only-of-type {\n",
              "        vertical-align: middle;\n",
              "    }\n",
              "\n",
              "    .dataframe tbody tr th {\n",
              "        vertical-align: top;\n",
              "    }\n",
              "\n",
              "    .dataframe thead th {\n",
              "        text-align: right;\n",
              "    }\n",
              "</style>\n",
              "<table border=\"1\" class=\"dataframe\">\n",
              "  <thead>\n",
              "    <tr style=\"text-align: right;\">\n",
              "      <th></th>\n",
              "      <th>Date</th>\n",
              "      <th>Open</th>\n",
              "      <th>High</th>\n",
              "      <th>Low</th>\n",
              "      <th>Close</th>\n",
              "      <th>Adj Close</th>\n",
              "      <th>Volume</th>\n",
              "    </tr>\n",
              "  </thead>\n",
              "  <tbody>\n",
              "    <tr>\n",
              "      <th>0</th>\n",
              "      <td>2020-01-02</td>\n",
              "      <td>3244.669922</td>\n",
              "      <td>3258.139893</td>\n",
              "      <td>3235.530029</td>\n",
              "      <td>3257.850098</td>\n",
              "      <td>3257.850098</td>\n",
              "      <td>3.458250e+09</td>\n",
              "    </tr>\n",
              "    <tr>\n",
              "      <th>1</th>\n",
              "      <td>2020-01-03</td>\n",
              "      <td>3226.360107</td>\n",
              "      <td>3246.149902</td>\n",
              "      <td>3222.340088</td>\n",
              "      <td>3234.850098</td>\n",
              "      <td>3234.850098</td>\n",
              "      <td>3.461290e+09</td>\n",
              "    </tr>\n",
              "    <tr>\n",
              "      <th>2</th>\n",
              "      <td>2020-01-06</td>\n",
              "      <td>3217.550049</td>\n",
              "      <td>3246.840088</td>\n",
              "      <td>3214.639893</td>\n",
              "      <td>3246.280029</td>\n",
              "      <td>3246.280029</td>\n",
              "      <td>3.674070e+09</td>\n",
              "    </tr>\n",
              "    <tr>\n",
              "      <th>3</th>\n",
              "      <td>2020-01-07</td>\n",
              "      <td>3241.860107</td>\n",
              "      <td>3244.909912</td>\n",
              "      <td>3232.429932</td>\n",
              "      <td>3237.179932</td>\n",
              "      <td>3237.179932</td>\n",
              "      <td>3.420380e+09</td>\n",
              "    </tr>\n",
              "    <tr>\n",
              "      <th>4</th>\n",
              "      <td>2020-01-08</td>\n",
              "      <td>3238.590088</td>\n",
              "      <td>3267.070068</td>\n",
              "      <td>3236.669922</td>\n",
              "      <td>3253.050049</td>\n",
              "      <td>3253.050049</td>\n",
              "      <td>3.720890e+09</td>\n",
              "    </tr>\n",
              "  </tbody>\n",
              "</table>\n",
              "</div>"
            ],
            "text/plain": [
              "         Date         Open         High  ...        Close    Adj Close        Volume\n",
              "0  2020-01-02  3244.669922  3258.139893  ...  3257.850098  3257.850098  3.458250e+09\n",
              "1  2020-01-03  3226.360107  3246.149902  ...  3234.850098  3234.850098  3.461290e+09\n",
              "2  2020-01-06  3217.550049  3246.840088  ...  3246.280029  3246.280029  3.674070e+09\n",
              "3  2020-01-07  3241.860107  3244.909912  ...  3237.179932  3237.179932  3.420380e+09\n",
              "4  2020-01-08  3238.590088  3267.070068  ...  3253.050049  3253.050049  3.720890e+09\n",
              "\n",
              "[5 rows x 7 columns]"
            ]
          },
          "metadata": {
            "tags": []
          },
          "execution_count": 39
        }
      ]
    },
    {
      "cell_type": "code",
      "metadata": {
        "id": "wLbnmOAsR11A",
        "outputId": "837d857a-286e-4d3d-c45c-1fa3edd827e1",
        "colab": {
          "base_uri": "https://localhost:8080/",
          "height": 34
        }
      },
      "source": [
        "pagina"
      ],
      "execution_count": null,
      "outputs": [
        {
          "output_type": "execute_result",
          "data": {
            "text/plain": [
              "<Worksheet 'Sheet1' id:0>"
            ]
          },
          "metadata": {
            "tags": []
          },
          "execution_count": 36
        }
      ]
    }
  ]
}
