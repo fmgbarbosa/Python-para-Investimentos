{
  "nbformat": 4,
  "nbformat_minor": 0,
  "metadata": {
    "colab": {
      "name": "Python para Investimentos | Tutorial 8.ipynb",
      "provenance": [],
      "collapsed_sections": []
    },
    "kernelspec": {
      "name": "python3",
      "display_name": "Python 3"
    }
  },
  "cells": [
    {
      "cell_type": "markdown",
      "metadata": {
        "id": "kRZrT6CZ5etG"
      },
      "source": [
        "**Pré-Tutorial**\n"
      ]
    },
    {
      "cell_type": "code",
      "metadata": {
        "id": "8vWtY9Ik5a7R"
      },
      "source": [
        "!pip install yfinance\n",
        "!pip install --upgrade matplotlib"
      ],
      "execution_count": null,
      "outputs": []
    },
    {
      "cell_type": "code",
      "metadata": {
        "id": "fPzAICuj_lQv"
      },
      "source": [
        "plt.rcParams['figure.figsize'] = [6,4]\n",
        "plt.rcParams['figure.dpi'] = 100"
      ],
      "execution_count": null,
      "outputs": []
    },
    {
      "cell_type": "markdown",
      "metadata": {
        "id": "Sw8V6X4V5o0a"
      },
      "source": [
        "**Tutorial**"
      ]
    },
    {
      "cell_type": "code",
      "metadata": {
        "id": "sFsi7RWX7C42"
      },
      "source": [
        "import yfinance as yf\n",
        "import matplotlib.pyplot as plt\n",
        "import numpy as np\n",
        "import math"
      ],
      "execution_count": null,
      "outputs": []
    },
    {
      "cell_type": "code",
      "metadata": {
        "id": "cap02Dbc8F5j"
      },
      "source": [
        "data = yf.download('^GSPC','2016-01-01','2020-10-01')\n",
        "data.head()"
      ],
      "execution_count": null,
      "outputs": []
    },
    {
      "cell_type": "code",
      "metadata": {
        "id": "x5VmxyR38mtq"
      },
      "source": [
        "def crossover_sinal(data):\n",
        "  #Criar Sinais de compra e venda\n",
        "  data['SMA15'] = data['Close'].rolling(15).mean()\n",
        "  data['SMA50'] = data['Close'].rolling(50).mean()\n",
        "\n",
        "  data['Anter'] = data['SMA15'].shift(1) - data['SMA50'].shift(1)\n",
        "  data['Atual'] = data['SMA15'] - data['SMA50']\n",
        "\n",
        "  data.loc[(data['Anter']<0)&(data['Atual']>0),'Compra'] = data['Close']\n",
        "  data.loc[(data['Anter']>0)&(data['Atual']<0),'Venda'] = data['Close']\n",
        "\n",
        "  columns = ['Close','SMA15','SMA50','Compra','Venda']\n",
        "\n",
        "  return data[columns]"
      ],
      "execution_count": null,
      "outputs": []
    },
    {
      "cell_type": "code",
      "metadata": {
        "id": "l6AFL7hb_Boc"
      },
      "source": [
        "output_df = crossover_sinal(data)\n",
        "output_df.tail()"
      ],
      "execution_count": null,
      "outputs": []
    },
    {
      "cell_type": "code",
      "metadata": {
        "id": "TkW4EgW1_MOX"
      },
      "source": [
        "filtered_data = output_df.loc[(output_df.index<'2020-12-01') & (output_df.index>'2019-01-01')]"
      ],
      "execution_count": null,
      "outputs": []
    },
    {
      "cell_type": "code",
      "metadata": {
        "id": "G6Wh3an2_5pQ"
      },
      "source": [
        "fig, ax = plt.subplots()\n",
        "\n",
        "#Adicionar Informação\n",
        "ax.plot(filtered_data.index,filtered_data['Close'],label='Fecho',alpha=0.5)\n",
        "ax.plot(filtered_data.index,filtered_data['SMA15'],label='MMS15',color='orange')\n",
        "ax.plot(filtered_data.index,filtered_data['SMA50'],label='MMS50',color='brown')\n",
        "\n",
        "#Adicionar Venda e Compra\n",
        "ax.scatter(filtered_data.index,filtered_data['Compra'],label='Compra',marker='^',color='green')\n",
        "ax.scatter(filtered_data.index,filtered_data['Venda'],label='Venda',marker='v',color='red')\n",
        "\n",
        "#formatar\n",
        "fig.autofmt_xdate()\n",
        "ax.legend()\n",
        "\n",
        "#Labels adicionais\n",
        "ax.yaxis.set_major_formatter('${x:}')\n",
        "ax.set_title('Estratégia Médias Móveis')\n",
        "ax.set_xlabel('Data')"
      ],
      "execution_count": null,
      "outputs": []
    }
  ]
}