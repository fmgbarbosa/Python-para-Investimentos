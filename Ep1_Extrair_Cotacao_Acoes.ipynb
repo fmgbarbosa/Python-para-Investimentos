{
  "nbformat": 4,
  "nbformat_minor": 0,
  "metadata": {
    "colab": {
      "name": "Ep1_Extrair_Cotacao_Acoes.ipynb",
      "provenance": [],
      "collapsed_sections": [
        "ONEEUg9c02hF",
        "s3gByGvrYzXs"
      ]
    },
    "kernelspec": {
      "name": "python3",
      "display_name": "Python 3"
    }
  },
  "cells": [
    {
      "cell_type": "markdown",
      "metadata": {
        "id": "ONEEUg9c02hF"
      },
      "source": [
        "# [1] Extrair Informação das Ações"
      ]
    },
    {
      "cell_type": "markdown",
      "metadata": {
        "id": "3zizAA54070F"
      },
      "source": [
        "Instalar Packages"
      ]
    },
    {
      "cell_type": "code",
      "metadata": {
        "id": "S_9WtU5mM2_x"
      },
      "source": [
        "!pip install yfinance\n",
        "import yfinance as yf"
      ],
      "execution_count": null,
      "outputs": []
    },
    {
      "cell_type": "markdown",
      "metadata": {
        "id": "JtEEjQbZtx_t"
      },
      "source": [
        "One Ticker Object"
      ]
    },
    {
      "cell_type": "code",
      "metadata": {
        "id": "2A0h1n0BrMl_"
      },
      "source": [
        "#Docs: https://pypi.org/project/yfinance/\n",
        "\n",
        "##Analise da Tesla\n",
        "\n",
        "\n",
        "#One Ticker\n",
        "msft = yf.Ticker(\"MSFT\")\n",
        "\n",
        "type(msft) #Ticker object com multiplos atributos\n",
        "\n",
        "# get stock info\n",
        "msft.info\n",
        "\n",
        "# get historical market data\n",
        "hist = msft.history(period=\"max\")\n",
        "\n",
        "# show actions (dividends, splits)\n",
        "msft.actions\n",
        "\n",
        "# show dividends\n",
        "msft.dividends\n",
        "\n",
        "# show splits\n",
        "msft.splits\n",
        "\n",
        "# show financials\n",
        "#msft.financials\n",
        "#msft.quarterly_financials\n",
        "\n",
        "# show major holders\n",
        "#msft.major_holders\n",
        "\n",
        "# show institutional holders\n",
        "msft.institutional_holders\n",
        "\n",
        "# show balance sheet\n",
        "#msft.balance_sheet\n",
        "#msft.quarterly_balance_sheet\n",
        "\n",
        "# show cashflow\n",
        "#msft.cashflow\n",
        "#msft.quarterly_cashflow\n",
        "\n",
        "# show earnings\n",
        "#msft.earnings\n",
        "#msft.quarterly_earnings\n",
        "\n",
        "# show sustainability\n",
        "msft.sustainability\n",
        "\n",
        "# show analysts recommendations - o que são estas recomendações?!?!?\n",
        "msft.recommendations\n",
        "\n",
        "# show next event (earnings, etc)\n",
        "#msft.calendar\n",
        "\n",
        "# show ISIN code - *experimental*\n",
        "# ISIN = International Securities Identification Number\n",
        "#msft.isin\n",
        "\n",
        "# show options expirations\n",
        "#msft.options\n",
        "\n",
        "# get option chain for specific expiration\n",
        "#opt = msft.option_chain('YYYY-MM-DD')\n",
        "# data available via: opt.calls, opt.puts"
      ],
      "execution_count": null,
      "outputs": []
    },
    {
      "cell_type": "markdown",
      "metadata": {
        "id": "1yNvoghzuOCX"
      },
      "source": [
        "Multiple Tickers Objects"
      ]
    },
    {
      "cell_type": "code",
      "metadata": {
        "id": "UMjP5GGnsNrB"
      },
      "source": [
        "tickers = yf.Tickers('msft aapl goog')\n",
        "# ^ returns a named tuple of Ticker objects\n",
        "\n",
        "# access each ticker using (example)\n",
        "#tickers.tickers[0].info\n",
        "tickers.tickers.MSFT.info\n",
        "tickers.tickers.AAPL.history(period=\"1mo\")\n",
        "tickers.tickers.GOOG.actions"
      ],
      "execution_count": null,
      "outputs": []
    },
    {
      "cell_type": "markdown",
      "metadata": {
        "id": "RmTL2TTQujwo"
      },
      "source": [
        "Extrair info em massa"
      ]
    },
    {
      "cell_type": "code",
      "metadata": {
        "id": "gN13oh4qEOJz"
      },
      "source": [
        "#Extrair dados de um ativo\n",
        "data = yf.download('^GSPC','2016-01-01','2020-12-10').reset_index()\n"
      ],
      "execution_count": null,
      "outputs": []
    },
    {
      "cell_type": "markdown",
      "metadata": {
        "id": "YAyJPmVa5rCw"
      },
      "source": [
        "Extrair Info de Múltiplas Ações\n"
      ]
    },
    {
      "cell_type": "code",
      "metadata": {
        "id": "4eo-lWP55-lT"
      },
      "source": [
        "#Extrair SP500\n",
        "import pandas as pd\n",
        "table=pd.read_html('https://en.wikipedia.org/wiki/List_of_S%26P_500_companies')\n",
        "type(table)\n",
        "len(table)\n",
        "table[0]\n",
        "df = table[0]\n",
        "df.head()"
      ],
      "execution_count": null,
      "outputs": []
    },
    {
      "cell_type": "code",
      "metadata": {
        "id": "0PchYgfIp-Ci"
      },
      "source": [
        "#Metodo 2 (Mais Eficiente)\n",
        "tickers = ' '.join(df['Symbol'].to_list())\n",
        "data = yf.download(tickers,start,end)\n",
        "#data['Adj Close'].reset_index().columns\n",
        "data.head()\n",
        "##data.columns"
      ],
      "execution_count": null,
      "outputs": []
    },
    {
      "cell_type": "markdown",
      "metadata": {
        "id": "dRmGkHB5vAPV"
      },
      "source": [
        "Outra Info que permite extrair"
      ]
    },
    {
      "cell_type": "code",
      "metadata": {
        "id": "kFNOGq7bmKNx"
      },
      "source": [
        "data = yf.download(  # or pdr.get_data_yahoo(...\n",
        "        # tickers list or string as well\n",
        "        tickers = \"SPY AAPL MSFT\",\n",
        "\n",
        "        # use \"period\" instead of start/end\n",
        "        # valid periods: 1d,5d,1mo,3mo,6mo,1y,2y,5y,10y,ytd,max\n",
        "        # (optional, default is '1mo')\n",
        "        period = \"ytd\",\n",
        "\n",
        "        # fetch data by interval (including intraday if period < 60 days)\n",
        "        # valid intervals: 1m,2m,5m,15m,30m,60m,90m,1h,1d,5d,1wk,1mo,3mo\n",
        "        # (optional, default is '1d')\n",
        "        interval = \"1m\",\n",
        "\n",
        "        # group by ticker (to access via data['SPY'])\n",
        "        # (optional, default is 'column')\n",
        "        group_by = 'ticker',\n",
        "\n",
        "        # adjust all OHLC automatically\n",
        "        # (optional, default is False)\n",
        "        auto_adjust = True,\n",
        "\n",
        "        # download pre/post regular market hours data\n",
        "        # (optional, default is False)\n",
        "        prepost = True,\n",
        "\n",
        "        # use threads for mass downloading? (True/False/Integer)\n",
        "        # (optional, default is True)\n",
        "        threads = True,\n",
        "\n",
        "        # proxy URL scheme use use when downloading?\n",
        "        # (optional, default is None)\n",
        "        proxy = None\n",
        "    )"
      ],
      "execution_count": null,
      "outputs": []
    },
    {
      "cell_type": "code",
      "metadata": {
        "id": "Xo4sPicsvwsK"
      },
      "source": [
        "start = '2019-01-01'\n",
        "end = '2020-12-31'\n",
        "\n",
        "#Metodo 2 (Mais Eficiente)\n",
        "tickers = ' '.join(df['Symbol'].to_list())\n",
        "data = yf.download(tickers,start,end,group_by='ticker')\n",
        "#data['Adj Close'].reset_index().columns\n",
        "data['ABT'].head()\n",
        "##data.columns"
      ],
      "execution_count": null,
      "outputs": []
    }
  ]
}