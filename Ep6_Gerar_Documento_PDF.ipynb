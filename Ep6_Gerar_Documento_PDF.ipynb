{
  "nbformat": 4,
  "nbformat_minor": 0,
  "metadata": {
    "colab": {
      "name": "Untitled0.ipynb",
      "provenance": []
    },
    "kernelspec": {
      "name": "python3",
      "display_name": "Python 3"
    }
  },
  "cells": [
    {
      "cell_type": "code",
      "metadata": {
        "id": "Ll4t8Liu4_pb"
      },
      "source": [
        "!pip install yfinance\n",
        "!pip install fpdf\n",
        "!pip install --upgrade matplotlib"
      ],
      "execution_count": null,
      "outputs": []
    },
    {
      "cell_type": "code",
      "metadata": {
        "id": "RWRx-ANQ5BFY"
      },
      "source": [
        "from fpdf import FPDF\n",
        "import yfinance as yf\n",
        "from datetime import datetime\n",
        "import matplotlib.pyplot as plt"
      ],
      "execution_count": null,
      "outputs": []
    },
    {
      "cell_type": "code",
      "metadata": {
        "id": "w0dGDB-Y5ESa"
      },
      "source": [
        "pdf = FPDF('P','mm','A4')\n",
        "pdf.add_page()\n",
        "pdf.set_font('Arial','B',16)\n",
        "\n",
        "print(f'Localização Atual = x:{round(pdf.get_x(),1)} | y: {round(pdf.get_y())}')\n",
        "pdf.cell(w=40,h=10,txt='Hello World!',border=1,ln=0)\n",
        "\n",
        "print(f'Localização Atual = x:{round(pdf.get_x(),1)} | y: {round(pdf.get_y())}')\n",
        "pdf.cell(w=40,h=10,txt='Hello World!',border=1,ln=2)\n",
        "\n",
        "print(f'Localização Atual = x:{round(pdf.get_x(),1)} | y: {round(pdf.get_y())}')\n",
        "pdf.cell(w=40,h=10,txt='Hello World!',border=1,ln=0)\n",
        "\n",
        "pdf.output('Teste.pdf','F')"
      ],
      "execution_count": null,
      "outputs": []
    },
    {
      "cell_type": "code",
      "metadata": {
        "id": "9YxAnd4P5Guv"
      },
      "source": [
        "pdf = FPDF('P','mm','A4')\n",
        "pdf.add_page()\n",
        "pdf.set_font('Arial','B',16)\n",
        "\n",
        "print(f'Localização Atual = x:{round(pdf.get_x(),1)} | y: {round(pdf.get_y())}')\n",
        "#pdf.image('Bull_Market.jpg',w=100,h=50)\n",
        "pdf.image('Bull_Market.jpg',x=75,y=120,w=100,h=50)\n",
        "\n",
        "pdf.output('Teste.pdf','F')"
      ],
      "execution_count": null,
      "outputs": []
    }
  ]
}